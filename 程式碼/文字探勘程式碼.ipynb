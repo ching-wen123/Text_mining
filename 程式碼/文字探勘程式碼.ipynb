{
 "cells": [
  {
   "cell_type": "code",
   "execution_count": null,
   "metadata": {},
   "outputs": [],
   "source": [
    "#爬蟲程式碼"
   ]
  },
  {
   "cell_type": "code",
   "execution_count": null,
   "metadata": {},
   "outputs": [],
   "source": []
  },
  {
   "cell_type": "code",
   "execution_count": null,
   "metadata": {},
   "outputs": [],
   "source": [
    "import pandas as pd\n",
    "f1 = pd.read_csv(\"/Users/maggie/Desktop/東吳 - 東吳.csv\")\n",
    "review = f1[\"回應\"]\n",
    "print(len(review))\n",
    "for i in range(len(review)):\n",
    "    print(review)"
   ]
  },
  {
   "cell_type": "code",
   "execution_count": null,
   "metadata": {},
   "outputs": [],
   "source": [
    "#情感分析\n",
    "from snownlp import SnowNLP\n",
    "import xlwt\n",
    "wb = xlwt.Workbook()\n",
    "sh = wb.add_sheet(sheetname = 'sheet')\n",
    "\n",
    "position = 0\n",
    "s = SnowNLP(review[1])\n",
    "for i in range(len(review)):\n",
    "    ans = review[i]\n",
    "    if ans is not review[0]:\n",
    "        s = SnowNLP(ans)\n",
    "        for r in s.sentences:\n",
    "            print(r)\n",
    "            s = SnowNLP(r)\n",
    "            score = s.sentiments\n",
    "            print(score)\n",
    "            if score <= 0.4:\n",
    "                sh.write(position, 0, r)\n",
    "                sh.write(position, 1, score)\n",
    "                position += 1\n",
    "wb.save(\"badbadbadbad\")"
   ]
  },
  {
   "cell_type": "code",
   "execution_count": null,
   "metadata": {},
   "outputs": [],
   "source": [
    "#斷詞\n",
    "import jieba.posseg as pseg\n",
    "import jieba\n",
    "import codecs\n",
    "#jieba.set_dictionary(\"dict.txt.big\")\n",
    "jieba.load_userdict(\"/Users/chouhsinte/Desktop/dict1.txt\")\n",
    "chinese_sentence = codecs.open('/Users/chouhsinte/Downloads/東吳缺點.csv', 'r', 'utf-8').read()\n",
    "zh_doc = pseg.cut(chinese_sentence)\n",
    "print(\"index\\ttxt\\tpos\")\n",
    "for i,(word,pos) in enumerate(zh_doc):\n",
    "    print(\"{}\\t{}\\t{}\".format(i,word,pos))"
   ]
  },
  {
   "cell_type": "code",
   "execution_count": null,
   "metadata": {},
   "outputs": [],
   "source": [
    "#關聯性比較\n",
    "from __future__ import print_function\n",
    "\n",
    "import sys\n",
    "try:\n",
    "    reload(sys)\n",
    "    sys.setdefaultencoding('utf-8')\n",
    "except:\n",
    "    pass\n",
    "\n",
    "import codecs\n",
    "from textrank4zh import TextRank4Keyword, TextRank4Sentence\n",
    "\n",
    "text = codecs.open('/Users/chouhsinte/Downloads/東吳缺點.csv', 'r', 'utf-8').read()\n",
    "tr4w = TextRank4Keyword()\n",
    "\n",
    "tr4w.analyze(text=text, lower=True, window=2)   # py2中text必须是utf8编码的str或者unicode对象，py3中必须是utf8编码的bytes或者str对象\n",
    "\n",
    "print( '關鍵詞' )\n",
    "for item in tr4w.get_keywords(20, word_min_len=2):\n",
    "    print(item.word, item.weight)\n",
    "\n",
    "print()\n",
    "print( '關鍵詞句：' )\n",
    "for phrase in tr4w.get_keyphrases(keywords_num=20, min_occur_num= 3):\n",
    "    print(phrase)\n",
    "\n",
    "tr4s = TextRank4Sentence()\n",
    "tr4s.analyze(text=text, lower=True, source = 'all_filters')\n",
    "\n",
    "print()\n",
    "print( '摘要：' )\n",
    "for item in tr4s.get_key_sentences(num=1):\n",
    "    print(item.index, item.weight, item.sentence)"
   ]
  }
 ],
 "metadata": {
  "kernelspec": {
   "display_name": "Python 3",
   "language": "python",
   "name": "python3"
  },
  "language_info": {
   "codemirror_mode": {
    "name": "ipython",
    "version": 3
   },
   "file_extension": ".py",
   "mimetype": "text/x-python",
   "name": "python",
   "nbconvert_exporter": "python",
   "pygments_lexer": "ipython3",
   "version": "3.7.3"
  }
 },
 "nbformat": 4,
 "nbformat_minor": 2
}
